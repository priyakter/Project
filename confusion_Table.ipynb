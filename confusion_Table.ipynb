{
  "nbformat": 4,
  "nbformat_minor": 0,
  "metadata": {
    "colab": {
      "provenance": [],
      "mount_file_id": "1JzXM-WhGHY084wHmKprHKqiWTpLI2m7s",
      "authorship_tag": "ABX9TyPGwSlVdwxls7kBhBlTAmio",
      "include_colab_link": true
    },
    "kernelspec": {
      "name": "python3",
      "display_name": "Python 3"
    },
    "language_info": {
      "name": "python"
    }
  },
  "cells": [
    {
      "cell_type": "markdown",
      "metadata": {
        "id": "view-in-github",
        "colab_type": "text"
      },
      "source": [
        "<a href=\"https://colab.research.google.com/github/priyakter/Project/blob/main/confusion_Table.ipynb\" target=\"_parent\"><img src=\"https://colab.research.google.com/assets/colab-badge.svg\" alt=\"Open In Colab\"/></a>"
      ]
    },
    {
      "cell_type": "code",
      "execution_count": 66,
      "metadata": {
        "id": "y6izsLC5lU06"
      },
      "outputs": [],
      "source": [
        "import numpy as np\n",
        "import pandas as pd\n",
        "import os\n",
        "import seaborn as sns\n",
        "import matplotlib.pyplot as plt\n",
        "from sklearn.model_selection import train_test_split\n",
        "from sklearn.metrics import accuracy_score, precision_score, recall_score, f1_score, roc_auc_score\n",
        "from sklearn.preprocessing import Normalizer\n",
        "from sklearn.metrics import confusion_matrix, RocCurveDisplay\n"
      ]
    },
    {
      "cell_type": "code",
      "source": [
        "cancer_data=pd.read_csv('/content/drive/MyDrive/data_sets.csv')"
      ],
      "metadata": {
        "id": "bDL7Y7SFmMMF"
      },
      "execution_count": 77,
      "outputs": []
    },
    {
      "cell_type": "code",
      "source": [
        "print(cancer_data.shape)"
      ],
      "metadata": {
        "colab": {
          "base_uri": "https://localhost:8080/"
        },
        "id": "FU2K1Le4mZZY",
        "outputId": "41626ce1-77b1-432e-dfbe-541395058c69"
      },
      "execution_count": 78,
      "outputs": [
        {
          "output_type": "stream",
          "name": "stdout",
          "text": [
            "(1000, 26)\n"
          ]
        }
      ]
    },
    {
      "cell_type": "code",
      "source": [
        "print(cancer_data.columns)"
      ],
      "metadata": {
        "colab": {
          "base_uri": "https://localhost:8080/"
        },
        "id": "LMARw59smni6",
        "outputId": "1115c5c7-bb58-44e7-d3c3-b7acc3f46470"
      },
      "execution_count": 79,
      "outputs": [
        {
          "output_type": "stream",
          "name": "stdout",
          "text": [
            "Index(['index', 'Patient Id', 'Age', 'Gender', 'Air Pollution', 'Alcohol use',\n",
            "       'Dust Allergy', 'OccuPational Hazards', 'Genetic Risk',\n",
            "       'chronic Lung Disease', 'Balanced Diet', 'Obesity', 'Smoking',\n",
            "       'Passive Smoker', 'Chest Pain', 'Coughing of Blood', 'Fatigue',\n",
            "       'Weight Loss', 'Shortness of Breath', 'Wheezing',\n",
            "       'Swallowing Difficulty', 'Clubbing of Finger Nails', 'Frequent Cold',\n",
            "       'Dry Cough', 'Snoring', 'Level'],\n",
            "      dtype='object')\n"
          ]
        }
      ]
    },
    {
      "cell_type": "code",
      "source": [
        "print(cancer_data.head(10))"
      ],
      "metadata": {
        "colab": {
          "base_uri": "https://localhost:8080/"
        },
        "id": "hzbf2ZGkDHEy",
        "outputId": "f9c2a366-db25-4d03-d69d-a3c5e6c54ebb"
      },
      "execution_count": 98,
      "outputs": [
        {
          "output_type": "stream",
          "name": "stdout",
          "text": [
            "   index Patient Id  Age  Gender  Air Pollution  Alcohol use  Dust Allergy  \\\n",
            "0      0         P1   33       1              2            4             5   \n",
            "1      1        P10   17       1              3            1             5   \n",
            "2      2       P100   35       1              4            5             6   \n",
            "3      3      P1000   37       1              7            7             7   \n",
            "4      4       P101   46       1              6            8             7   \n",
            "5      5       P102   35       1              4            5             6   \n",
            "6      6       P103   52       2              2            4             5   \n",
            "7      7       P104   28       2              3            1             4   \n",
            "8      8       P105   35       2              4            5             6   \n",
            "9      9       P106   46       1              2            3             4   \n",
            "\n",
            "   OccuPational Hazards  Genetic Risk  chronic Lung Disease  ...  Fatigue  \\\n",
            "0                     4             3                     2  ...        3   \n",
            "1                     3             4                     2  ...        1   \n",
            "2                     5             5                     4  ...        8   \n",
            "3                     7             6                     7  ...        4   \n",
            "4                     7             7                     6  ...        3   \n",
            "5                     5             5                     4  ...        8   \n",
            "6                     4             3                     2  ...        3   \n",
            "7                     3             2                     3  ...        3   \n",
            "8                     5             6                     5  ...        1   \n",
            "9                     2             4                     3  ...        1   \n",
            "\n",
            "   Weight Loss  Shortness of Breath  Wheezing  Swallowing Difficulty  \\\n",
            "0            4                    2         2                      3   \n",
            "1            3                    7         8                      6   \n",
            "2            7                    9         2                      1   \n",
            "3            2                    3         1                      4   \n",
            "4            2                    4         1                      4   \n",
            "5            7                    9         2                      1   \n",
            "6            4                    2         2                      3   \n",
            "7            2                    2         4                      2   \n",
            "8            4                    3         2                      4   \n",
            "9            2                    4         6                      5   \n",
            "\n",
            "   Clubbing of Finger Nails  Frequent Cold  Dry Cough  Snoring  Level  \n",
            "0                         1              2          3        4      0  \n",
            "1                         2              1          7        2      1  \n",
            "2                         4              6          7        2      1  \n",
            "3                         5              6          7        5      1  \n",
            "4                         2              4          2        3      1  \n",
            "5                         4              6          7        2      1  \n",
            "6                         1              2          3        4      0  \n",
            "7                         2              3          4        3      0  \n",
            "8                         6              2          4        1      1  \n",
            "9                         4              2          1        5      1  \n",
            "\n",
            "[10 rows x 26 columns]\n"
          ]
        }
      ]
    },
    {
      "cell_type": "code",
      "source": [
        "cancer_data=cancer_data.drop(['index','Patient Id'], axis = 1)"
      ],
      "metadata": {
        "id": "HcwDVZWUMytS"
      },
      "execution_count": 101,
      "outputs": []
    },
    {
      "cell_type": "code",
      "source": [
        "cancer_data['Level'] = cancer_data['Level'].replace({'Low': 0, 'Medium': 1, 'High': 1})\n"
      ],
      "metadata": {
        "id": "1A0TyqrhCleq"
      },
      "execution_count": 102,
      "outputs": []
    },
    {
      "cell_type": "code",
      "source": [
        "target=cancer_data['Level']\n",
        "print(pd.value_counts(target))"
      ],
      "metadata": {
        "colab": {
          "base_uri": "https://localhost:8080/"
        },
        "id": "Vk1F6bH0FARP",
        "outputId": "3b92c14d-bc95-4839-9520-c6a515a72a3d"
      },
      "execution_count": 103,
      "outputs": [
        {
          "output_type": "stream",
          "name": "stdout",
          "text": [
            "Level\n",
            "1    697\n",
            "0    303\n",
            "Name: count, dtype: int64\n"
          ]
        },
        {
          "output_type": "stream",
          "name": "stderr",
          "text": [
            "<ipython-input-103-06d8eb328221>:2: FutureWarning: pandas.value_counts is deprecated and will be removed in a future version. Use pd.Series(obj).value_counts() instead.\n",
            "  print(pd.value_counts(target))\n"
          ]
        }
      ]
    },
    {
      "cell_type": "code",
      "source": [
        "print(cancer_data.describe())"
      ],
      "metadata": {
        "colab": {
          "base_uri": "https://localhost:8080/"
        },
        "id": "mP8t0cQIm2LQ",
        "outputId": "f4e1740d-69cb-4d0e-a5f3-001a4b2eea57"
      },
      "execution_count": 104,
      "outputs": [
        {
          "output_type": "stream",
          "name": "stdout",
          "text": [
            "               Age       Gender  Air Pollution  Alcohol use  Dust Allergy  \\\n",
            "count  1000.000000  1000.000000      1000.0000  1000.000000   1000.000000   \n",
            "mean     37.174000     1.402000         3.8400     4.563000      5.165000   \n",
            "std      12.005493     0.490547         2.0304     2.620477      1.980833   \n",
            "min      14.000000     1.000000         1.0000     1.000000      1.000000   \n",
            "25%      27.750000     1.000000         2.0000     2.000000      4.000000   \n",
            "50%      36.000000     1.000000         3.0000     5.000000      6.000000   \n",
            "75%      45.000000     2.000000         6.0000     7.000000      7.000000   \n",
            "max      73.000000     2.000000         8.0000     8.000000      8.000000   \n",
            "\n",
            "       OccuPational Hazards  Genetic Risk  chronic Lung Disease  \\\n",
            "count           1000.000000   1000.000000           1000.000000   \n",
            "mean               4.840000      4.580000              4.380000   \n",
            "std                2.107805      2.126999              1.848518   \n",
            "min                1.000000      1.000000              1.000000   \n",
            "25%                3.000000      2.000000              3.000000   \n",
            "50%                5.000000      5.000000              4.000000   \n",
            "75%                7.000000      7.000000              6.000000   \n",
            "max                8.000000      7.000000              7.000000   \n",
            "\n",
            "       Balanced Diet      Obesity  ...      Fatigue  Weight Loss  \\\n",
            "count    1000.000000  1000.000000  ...  1000.000000  1000.000000   \n",
            "mean        4.491000     4.465000  ...     3.856000     3.855000   \n",
            "std         2.135528     2.124921  ...     2.244616     2.206546   \n",
            "min         1.000000     1.000000  ...     1.000000     1.000000   \n",
            "25%         2.000000     3.000000  ...     2.000000     2.000000   \n",
            "50%         4.000000     4.000000  ...     3.000000     3.000000   \n",
            "75%         7.000000     7.000000  ...     5.000000     6.000000   \n",
            "max         7.000000     7.000000  ...     9.000000     8.000000   \n",
            "\n",
            "       Shortness of Breath     Wheezing  Swallowing Difficulty  \\\n",
            "count          1000.000000  1000.000000            1000.000000   \n",
            "mean              4.240000     3.777000               3.746000   \n",
            "std               2.285087     2.041921               2.270383   \n",
            "min               1.000000     1.000000               1.000000   \n",
            "25%               2.000000     2.000000               2.000000   \n",
            "50%               4.000000     4.000000               4.000000   \n",
            "75%               6.000000     5.000000               5.000000   \n",
            "max               9.000000     8.000000               8.000000   \n",
            "\n",
            "       Clubbing of Finger Nails  Frequent Cold    Dry Cough      Snoring  \\\n",
            "count               1000.000000    1000.000000  1000.000000  1000.000000   \n",
            "mean                   3.923000       3.536000     3.853000     2.926000   \n",
            "std                    2.388048       1.832502     2.039007     1.474686   \n",
            "min                    1.000000       1.000000     1.000000     1.000000   \n",
            "25%                    2.000000       2.000000     2.000000     2.000000   \n",
            "50%                    4.000000       3.000000     4.000000     3.000000   \n",
            "75%                    5.000000       5.000000     6.000000     4.000000   \n",
            "max                    9.000000       7.000000     7.000000     7.000000   \n",
            "\n",
            "             Level  \n",
            "count  1000.000000  \n",
            "mean      0.697000  \n",
            "std       0.459785  \n",
            "min       0.000000  \n",
            "25%       0.000000  \n",
            "50%       1.000000  \n",
            "75%       1.000000  \n",
            "max       1.000000  \n",
            "\n",
            "[8 rows x 24 columns]\n"
          ]
        }
      ]
    },
    {
      "cell_type": "code",
      "source": [
        "seed=7\n",
        "train_data,test_data=train_test_split(cancer_data,test_size=0.30,random_state=7,stratify=target)\n",
        "print('\\n Training Data:',train_data.shape)\n",
        "print('\\n Testing Data:',test_data.shape)"
      ],
      "metadata": {
        "colab": {
          "base_uri": "https://localhost:8080/"
        },
        "id": "ZgPC9-lWoZao",
        "outputId": "e3b0ca07-f047-4f69-c1b7-ffb899adbd67"
      },
      "execution_count": 105,
      "outputs": [
        {
          "output_type": "stream",
          "name": "stdout",
          "text": [
            "\n",
            " Training Data: (700, 24)\n",
            "\n",
            " Testing Data: (300, 24)\n"
          ]
        }
      ]
    },
    {
      "cell_type": "code",
      "source": [
        "print(pd.value_counts(train_data['Level']))\n",
        "print(pd.value_counts(test_data['Level']))"
      ],
      "metadata": {
        "colab": {
          "base_uri": "https://localhost:8080/"
        },
        "id": "Pq9xLKn2qp04",
        "outputId": "39ee6a81-0de1-45d8-b472-b142368fb4b2"
      },
      "execution_count": 106,
      "outputs": [
        {
          "output_type": "stream",
          "name": "stdout",
          "text": [
            "Level\n",
            "1    488\n",
            "0    212\n",
            "Name: count, dtype: int64\n",
            "Level\n",
            "1    209\n",
            "0     91\n",
            "Name: count, dtype: int64\n"
          ]
        },
        {
          "output_type": "stream",
          "name": "stderr",
          "text": [
            "<ipython-input-106-1679ec0f63b1>:1: FutureWarning: pandas.value_counts is deprecated and will be removed in a future version. Use pd.Series(obj).value_counts() instead.\n",
            "  print(pd.value_counts(train_data['Level']))\n",
            "<ipython-input-106-1679ec0f63b1>:2: FutureWarning: pandas.value_counts is deprecated and will be removed in a future version. Use pd.Series(obj).value_counts() instead.\n",
            "  print(pd.value_counts(test_data['Level']))\n"
          ]
        }
      ]
    },
    {
      "cell_type": "code",
      "source": [
        "train_x=train_data.drop('Level',axis=1)\n",
        "train_y=train_data['Level']\n",
        "test_x=test_data.drop('Level',axis=1)\n",
        "test_y=test_data['Level']\n"
      ],
      "metadata": {
        "id": "6PJRTL9YrKW0"
      },
      "execution_count": 108,
      "outputs": []
    },
    {
      "cell_type": "code",
      "source": [
        "from sklearn.svm import SVC\n",
        "from sklearn.metrics import accuracy_score\n",
        "model=['linear','poly','rbf']\n",
        "Train_acc=[]\n",
        "test_acc=[]\n",
        "predict=[]\n",
        "for i in model:\n",
        "  model_SVM=SVC(kernel=i,C=1,gamma='scale').fit(train_x,train_y)\n",
        "  prediction_data1=model_SVM.predict(train_x)\n",
        "  prediction_data2=model_SVM.predict(test_x)\n",
        "  predict.append(prediction_data2)\n",
        "  Train_acc.append(accuracy_score(train_y,prediction_data1))\n",
        "  test_acc.append(accuracy_score(test_y,prediction_data2))\n",
        "\n",
        "from tabulate import tabulate\n",
        "result=[]\n",
        "for i in range(len(model)):\n",
        "    result.append([model[i],Train_acc[i],test_acc[i]])\n",
        "\n",
        "df=pd.DataFrame(result,columns=['Model','Training Accuracy','Testing Accuracy'])\n",
        "print(df)\n",
        "\n",
        "\n"
      ],
      "metadata": {
        "colab": {
          "base_uri": "https://localhost:8080/"
        },
        "id": "w9fXSwISrrnr",
        "outputId": "5108fd74-eaef-419d-ada3-a0bc064bcb9f"
      },
      "execution_count": 140,
      "outputs": [
        {
          "output_type": "stream",
          "name": "stdout",
          "text": [
            "    Model  Training Accuracy  Testing Accuracy\n",
            "0  linear           1.000000          1.000000\n",
            "1    poly           0.958571          0.936667\n",
            "2     rbf           0.977143          0.986667\n"
          ]
        }
      ]
    },
    {
      "cell_type": "code",
      "source": [
        "for i in range(len(model)):\n",
        "  print(model[i])\n",
        "  tp, fp, fn, tn = confusion_matrix(test_y,predict[i]).ravel()\n",
        "  print('tp fp fn tn')\n",
        "  print(tp, fp, fn, tn)\n",
        "  print('\\n')\n",
        "  accuracy = (tp+tn)/(tp+fp+fn+tn)\n",
        "  print('Accuracy:', accuracy)\n",
        "  precision = tp/(tp+fp)\n",
        "  print('Precision:', precision)\n",
        "  recall = tp/(tp+fn)\n",
        "  print('Recall:', recall)\n",
        "  f1 = 2*(precision*recall)/(precision+recall)\n",
        "  print('F1 Score:', f1)\n",
        "  print('\\n')\n",
        "\n"
      ],
      "metadata": {
        "colab": {
          "base_uri": "https://localhost:8080/"
        },
        "id": "NywL0N9cQJ2b",
        "outputId": "e9be570e-c8de-4b93-d6eb-bc64201fe66f"
      },
      "execution_count": 149,
      "outputs": [
        {
          "output_type": "stream",
          "name": "stdout",
          "text": [
            "linear\n",
            "tp fp fn tn\n",
            "91 0 0 209\n",
            "\n",
            "\n",
            "Accuracy: 1.0\n",
            "Precision: 1.0\n",
            "Recall: 1.0\n",
            "F1 Score: 1.0\n",
            "\n",
            "\n",
            "poly\n",
            "tp fp fn tn\n",
            "88 3 16 193\n",
            "\n",
            "\n",
            "Accuracy: 0.9366666666666666\n",
            "Precision: 0.967032967032967\n",
            "Recall: 0.8461538461538461\n",
            "F1 Score: 0.9025641025641026\n",
            "\n",
            "\n",
            "rbf\n",
            "tp fp fn tn\n",
            "87 4 0 209\n",
            "\n",
            "\n",
            "Accuracy: 0.9866666666666667\n",
            "Precision: 0.9560439560439561\n",
            "Recall: 1.0\n",
            "F1 Score: 0.9775280898876404\n",
            "\n",
            "\n"
          ]
        }
      ]
    },
    {
      "cell_type": "code",
      "source": [
        "for i in range(len(model)):\n",
        "  print(model[i])\n",
        "  cm = confusion_matrix(test_y, predict[i])\n",
        "  plt.figure(figsize=(2, 1))\n",
        "  sns.heatmap(cm, annot=True, fmt=\"d\", cmap=\"Blues\", xticklabels=[\"Pred 0\", \"Pred 1\"], yticklabels=[\"Actual 0\", \"Actual 1\"])\n",
        "  plt.xlabel(\"Predicted\")\n",
        "  plt.ylabel(\"Actual\")\n",
        "  plt.title(\"Confusion Matrix\")\n",
        "  plt.show()\n"
      ],
      "metadata": {
        "colab": {
          "base_uri": "https://localhost:8080/",
          "height": 555
        },
        "id": "gLeKD2eKVC_h",
        "outputId": "401c91ec-9844-41ec-a9f7-e758357a472e"
      },
      "execution_count": 145,
      "outputs": [
        {
          "output_type": "stream",
          "name": "stdout",
          "text": [
            "linear\n"
          ]
        },
        {
          "output_type": "display_data",
          "data": {
            "text/plain": [
              "<Figure size 200x100 with 2 Axes>"
            ],
            "image/png": "[encoded data removed]"
          },
          "metadata": {}
        },
        {
          "output_type": "stream",
          "name": "stdout",
          "text": [
            "poly\n"
          ]
        },
        {
          "output_type": "display_data",
          "data": {
            "text/plain": [
              "<Figure size 200x100 with 2 Axes>"
            ],
            "image/png": "[encoded data removed]"
          },
          "metadata": {}
        },
        {
          "output_type": "stream",
          "name": "stdout",
          "text": [
            "rbf\n"
          ]
        },
        {
          "output_type": "display_data",
          "data": {
            "text/plain": [
              "<Figure size 200x100 with 2 Axes>"
            ],
            "image/png": "[encoded data removed]"
          },
          "metadata": {}
        }
      ]
    }
  ]
}